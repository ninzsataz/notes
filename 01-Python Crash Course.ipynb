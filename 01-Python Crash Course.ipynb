{
 "cells": [
  {
   "cell_type": "code",
   "execution_count": 321,
   "metadata": {},
   "outputs": [],
   "source": [
    "import phonenumbers\n",
    "import pycountry\n",
    "from phonenumbers.phonenumberutil import (\n",
    "    region_code_for_country_code,\n",
    "    region_code_for_number,\n",
    ")\n",
    "import pandas as pd"
   ]
  },
  {
   "cell_type": "markdown",
   "metadata": {},
   "source": [
    "# Read in all country code/phone number data\n",
    "-- source: https://en.wikipedia.org/wiki/List_of_mobile_telephone_prefixes_by_country"
   ]
  },
  {
   "cell_type": "code",
   "execution_count": 322,
   "metadata": {},
   "outputs": [],
   "source": [
    "# # filter for wh and only countries of interest\n",
    "# data = pd.read_csv('table-1.csv')\n",
    "# wh_data = data[data.Americas == True]"
   ]
  },
  {
   "cell_type": "code",
   "execution_count": 323,
   "metadata": {},
   "outputs": [
    {
     "data": {
      "text/html": [
       "<div>\n",
       "<style scoped>\n",
       "    .dataframe tbody tr th:only-of-type {\n",
       "        vertical-align: middle;\n",
       "    }\n",
       "\n",
       "    .dataframe tbody tr th {\n",
       "        vertical-align: top;\n",
       "    }\n",
       "\n",
       "    .dataframe thead th {\n",
       "        text-align: right;\n",
       "    }\n",
       "</style>\n",
       "<table border=\"1\" class=\"dataframe\">\n",
       "  <thead>\n",
       "    <tr style=\"text-align: right;\">\n",
       "      <th></th>\n",
       "      <th>Country</th>\n",
       "      <th>Americas</th>\n",
       "      <th>International Calling Code</th>\n",
       "      <th>Mobile Prefix</th>\n",
       "      <th>Size of NSN</th>\n",
       "      <th>Carrier</th>\n",
       "      <th>Notes</th>\n",
       "    </tr>\n",
       "  </thead>\n",
       "  <tbody>\n",
       "    <tr>\n",
       "      <th>0</th>\n",
       "      <td>Anguilla</td>\n",
       "      <td>True</td>\n",
       "      <td>1</td>\n",
       "      <td>264 772</td>\n",
       "      <td>10</td>\n",
       "      <td>NaN</td>\n",
       "      <td>NANP member</td>\n",
       "    </tr>\n",
       "    <tr>\n",
       "      <th>1</th>\n",
       "      <td>Antigua and Barbuda</td>\n",
       "      <td>True</td>\n",
       "      <td>1</td>\n",
       "      <td>268 7xx</td>\n",
       "      <td>10</td>\n",
       "      <td>NaN</td>\n",
       "      <td>NANP member</td>\n",
       "    </tr>\n",
       "    <tr>\n",
       "      <th>2</th>\n",
       "      <td>Argentina</td>\n",
       "      <td>True</td>\n",
       "      <td>54</td>\n",
       "      <td>15-Sep</td>\n",
       "      <td>?</td>\n",
       "      <td>All carriers: Claro, Movistar, Personal, Tuenti</td>\n",
       "      <td>15 before the local number but after long dist...</td>\n",
       "    </tr>\n",
       "    <tr>\n",
       "      <th>3</th>\n",
       "      <td>Aruba</td>\n",
       "      <td>True</td>\n",
       "      <td>297</td>\n",
       "      <td>NaN</td>\n",
       "      <td>7</td>\n",
       "      <td>NaN</td>\n",
       "      <td>NaN</td>\n",
       "    </tr>\n",
       "    <tr>\n",
       "      <th>4</th>\n",
       "      <td>Bahamas</td>\n",
       "      <td>True</td>\n",
       "      <td>1</td>\n",
       "      <td>242 35x</td>\n",
       "      <td>10</td>\n",
       "      <td>NaN</td>\n",
       "      <td>NANP member</td>\n",
       "    </tr>\n",
       "    <tr>\n",
       "      <th>...</th>\n",
       "      <td>...</td>\n",
       "      <td>...</td>\n",
       "      <td>...</td>\n",
       "      <td>...</td>\n",
       "      <td>...</td>\n",
       "      <td>...</td>\n",
       "      <td>...</td>\n",
       "    </tr>\n",
       "    <tr>\n",
       "      <th>166</th>\n",
       "      <td>Venezuela</td>\n",
       "      <td>True</td>\n",
       "      <td>58</td>\n",
       "      <td>412</td>\n",
       "      <td>7</td>\n",
       "      <td>Digitel GSM</td>\n",
       "      <td>NaN</td>\n",
       "    </tr>\n",
       "    <tr>\n",
       "      <th>167</th>\n",
       "      <td>Venezuela</td>\n",
       "      <td>True</td>\n",
       "      <td>58</td>\n",
       "      <td>414</td>\n",
       "      <td>7</td>\n",
       "      <td>Movistar</td>\n",
       "      <td>NaN</td>\n",
       "    </tr>\n",
       "    <tr>\n",
       "      <th>168</th>\n",
       "      <td>Venezuela</td>\n",
       "      <td>True</td>\n",
       "      <td>58</td>\n",
       "      <td>416</td>\n",
       "      <td>7</td>\n",
       "      <td>Movilnet</td>\n",
       "      <td>NaN</td>\n",
       "    </tr>\n",
       "    <tr>\n",
       "      <th>169</th>\n",
       "      <td>Venezuela</td>\n",
       "      <td>True</td>\n",
       "      <td>58</td>\n",
       "      <td>424</td>\n",
       "      <td>7</td>\n",
       "      <td>Movistar</td>\n",
       "      <td>NaN</td>\n",
       "    </tr>\n",
       "    <tr>\n",
       "      <th>170</th>\n",
       "      <td>Venezuela</td>\n",
       "      <td>True</td>\n",
       "      <td>58</td>\n",
       "      <td>426</td>\n",
       "      <td>7</td>\n",
       "      <td>Movilnet</td>\n",
       "      <td>NaN</td>\n",
       "    </tr>\n",
       "  </tbody>\n",
       "</table>\n",
       "<p>171 rows × 7 columns</p>\n",
       "</div>"
      ],
      "text/plain": [
       "                 Country  Americas  International Calling Code Mobile Prefix  \\\n",
       "0               Anguilla      True                           1       264 772   \n",
       "1    Antigua and Barbuda      True                           1       268 7xx   \n",
       "2              Argentina      True                          54        15-Sep   \n",
       "3                  Aruba      True                         297           NaN   \n",
       "4                Bahamas      True                           1       242 35x   \n",
       "..                   ...       ...                         ...           ...   \n",
       "166            Venezuela      True                          58           412   \n",
       "167            Venezuela      True                          58           414   \n",
       "168            Venezuela      True                          58           416   \n",
       "169            Venezuela      True                          58           424   \n",
       "170            Venezuela      True                          58           426   \n",
       "\n",
       "    Size of NSN                                          Carrier  \\\n",
       "0            10                                              NaN   \n",
       "1            10                                              NaN   \n",
       "2             ?  All carriers: Claro, Movistar, Personal, Tuenti   \n",
       "3             7                                              NaN   \n",
       "4            10                                              NaN   \n",
       "..          ...                                              ...   \n",
       "166           7                                      Digitel GSM   \n",
       "167           7                                         Movistar   \n",
       "168           7                                         Movilnet   \n",
       "169           7                                         Movistar   \n",
       "170           7                                         Movilnet   \n",
       "\n",
       "                                                 Notes  \n",
       "0                                          NANP member  \n",
       "1                                          NANP member  \n",
       "2    15 before the local number but after long dist...  \n",
       "3                                                  NaN  \n",
       "4                                          NANP member  \n",
       "..                                                 ...  \n",
       "166                                                NaN  \n",
       "167                                                NaN  \n",
       "168                                                NaN  \n",
       "169                                                NaN  \n",
       "170                                                NaN  \n",
       "\n",
       "[171 rows x 7 columns]"
      ]
     },
     "execution_count": 323,
     "metadata": {},
     "output_type": "execute_result"
    }
   ],
   "source": [
    "wh_phone_dict = pd.read_csv('wh_phone_dict.csv')\n",
    "wh_phone_dict"
   ]
  },
  {
   "cell_type": "code",
   "execution_count": 324,
   "metadata": {},
   "outputs": [],
   "source": [
    "# Get country codes\n",
    "input_countries = wh_phone_dict['Country']\n",
    "\n",
    "countries = {}\n",
    "for country in pycountry.countries:\n",
    "    countries[country.name] = country.alpha_2\n",
    "\n",
    "codes = [countries.get(country, 'Unknown code') for country in input_countries]\n",
    "\n",
    "code_wh_phone_dict = wh_phone_dict\n",
    "code_wh_phone_dict['Country Code'] = codes"
   ]
  },
  {
   "cell_type": "code",
   "execution_count": 325,
   "metadata": {},
   "outputs": [
    {
     "data": {
      "text/html": [
       "<div>\n",
       "<style scoped>\n",
       "    .dataframe tbody tr th:only-of-type {\n",
       "        vertical-align: middle;\n",
       "    }\n",
       "\n",
       "    .dataframe tbody tr th {\n",
       "        vertical-align: top;\n",
       "    }\n",
       "\n",
       "    .dataframe thead th {\n",
       "        text-align: right;\n",
       "    }\n",
       "</style>\n",
       "<table border=\"1\" class=\"dataframe\">\n",
       "  <thead>\n",
       "    <tr style=\"text-align: right;\">\n",
       "      <th></th>\n",
       "      <th>Country</th>\n",
       "      <th>Americas</th>\n",
       "      <th>International Calling Code</th>\n",
       "      <th>Mobile Prefix</th>\n",
       "      <th>Size of NSN</th>\n",
       "      <th>Carrier</th>\n",
       "      <th>Notes</th>\n",
       "      <th>Country Code</th>\n",
       "    </tr>\n",
       "  </thead>\n",
       "  <tbody>\n",
       "    <tr>\n",
       "      <th>0</th>\n",
       "      <td>Anguilla</td>\n",
       "      <td>True</td>\n",
       "      <td>1</td>\n",
       "      <td>264 772</td>\n",
       "      <td>10</td>\n",
       "      <td>NaN</td>\n",
       "      <td>NANP member</td>\n",
       "      <td>AI</td>\n",
       "    </tr>\n",
       "    <tr>\n",
       "      <th>1</th>\n",
       "      <td>Antigua and Barbuda</td>\n",
       "      <td>True</td>\n",
       "      <td>1</td>\n",
       "      <td>268 7xx</td>\n",
       "      <td>10</td>\n",
       "      <td>NaN</td>\n",
       "      <td>NANP member</td>\n",
       "      <td>AG</td>\n",
       "    </tr>\n",
       "    <tr>\n",
       "      <th>2</th>\n",
       "      <td>Argentina</td>\n",
       "      <td>True</td>\n",
       "      <td>54</td>\n",
       "      <td>15-Sep</td>\n",
       "      <td>?</td>\n",
       "      <td>All carriers: Claro, Movistar, Personal, Tuenti</td>\n",
       "      <td>15 before the local number but after long dist...</td>\n",
       "      <td>AR</td>\n",
       "    </tr>\n",
       "    <tr>\n",
       "      <th>3</th>\n",
       "      <td>Aruba</td>\n",
       "      <td>True</td>\n",
       "      <td>297</td>\n",
       "      <td>NaN</td>\n",
       "      <td>7</td>\n",
       "      <td>NaN</td>\n",
       "      <td>NaN</td>\n",
       "      <td>AW</td>\n",
       "    </tr>\n",
       "    <tr>\n",
       "      <th>4</th>\n",
       "      <td>Bahamas</td>\n",
       "      <td>True</td>\n",
       "      <td>1</td>\n",
       "      <td>242 35x</td>\n",
       "      <td>10</td>\n",
       "      <td>NaN</td>\n",
       "      <td>NANP member</td>\n",
       "      <td>BS</td>\n",
       "    </tr>\n",
       "  </tbody>\n",
       "</table>\n",
       "</div>"
      ],
      "text/plain": [
       "               Country  Americas  International Calling Code Mobile Prefix  \\\n",
       "0             Anguilla      True                           1       264 772   \n",
       "1  Antigua and Barbuda      True                           1       268 7xx   \n",
       "2            Argentina      True                          54        15-Sep   \n",
       "3                Aruba      True                         297           NaN   \n",
       "4              Bahamas      True                           1       242 35x   \n",
       "\n",
       "  Size of NSN                                          Carrier  \\\n",
       "0          10                                              NaN   \n",
       "1          10                                              NaN   \n",
       "2           ?  All carriers: Claro, Movistar, Personal, Tuenti   \n",
       "3           7                                              NaN   \n",
       "4          10                                              NaN   \n",
       "\n",
       "                                               Notes Country Code  \n",
       "0                                        NANP member           AI  \n",
       "1                                        NANP member           AG  \n",
       "2  15 before the local number but after long dist...           AR  \n",
       "3                                                NaN           AW  \n",
       "4                                        NANP member           BS  "
      ]
     },
     "execution_count": 325,
     "metadata": {},
     "output_type": "execute_result"
    }
   ],
   "source": [
    "# countries of interest with country codes\n",
    "code_wh_phone_dict.head()"
   ]
  },
  {
   "cell_type": "code",
   "execution_count": 326,
   "metadata": {},
   "outputs": [],
   "source": [
    "# Manually spot check country codes and fix later\n",
    "# code_wh_phone_dict[code_wh_phone_dict['Country Code'] == 'Unknown code'].Country.unique()"
   ]
  },
  {
   "cell_type": "markdown",
   "metadata": {},
   "source": [
    "## Parse through phone numbers"
   ]
  },
  {
   "cell_type": "code",
   "execution_count": 327,
   "metadata": {},
   "outputs": [
    {
     "data": {
      "text/plain": [
       "PhoneNumber(country_code=91, national_number=8320742364, extension=None, italian_leading_zero=None, number_of_leading_zeros=None, country_code_source=0, preferred_domestic_carrier_code=None)"
      ]
     },
     "execution_count": 327,
     "metadata": {},
     "output_type": "execute_result"
    }
   ],
   "source": [
    "phonenumbers.parse(\"+91 8320742364\")"
   ]
  },
  {
   "cell_type": "code",
   "execution_count": 328,
   "metadata": {},
   "outputs": [],
   "source": [
    "sample_nums = pd.DataFrame([\"+91 8320742364\", \"+918320742364\", \"918320742364\", \"+8320742364\", \"+1 5714993119\"], \n",
    "                           columns=['Mobile'])"
   ]
  },
  {
   "cell_type": "code",
   "execution_count": 329,
   "metadata": {},
   "outputs": [],
   "source": [
    "# Function to get country codes with a list of nums\n",
    "l_ = []\n",
    "for z in sample_nums['Mobile']:\n",
    "    try:\n",
    "        x = phonenumbers.parse(z)\n",
    "        phone_country = (region_code_for_country_code(x.country_code))\n",
    "        l_.append(phone_country)\n",
    "    except:\n",
    "        l_.append('Unknown')\n",
    "        pass\n",
    "sample_nums['Country Code'] = l_"
   ]
  },
  {
   "cell_type": "code",
   "execution_count": 330,
   "metadata": {},
   "outputs": [
    {
     "data": {
      "text/html": [
       "<div>\n",
       "<style scoped>\n",
       "    .dataframe tbody tr th:only-of-type {\n",
       "        vertical-align: middle;\n",
       "    }\n",
       "\n",
       "    .dataframe tbody tr th {\n",
       "        vertical-align: top;\n",
       "    }\n",
       "\n",
       "    .dataframe thead th {\n",
       "        text-align: right;\n",
       "    }\n",
       "</style>\n",
       "<table border=\"1\" class=\"dataframe\">\n",
       "  <thead>\n",
       "    <tr style=\"text-align: right;\">\n",
       "      <th></th>\n",
       "      <th>Mobile</th>\n",
       "      <th>Country Code</th>\n",
       "    </tr>\n",
       "  </thead>\n",
       "  <tbody>\n",
       "    <tr>\n",
       "      <th>0</th>\n",
       "      <td>+91 8320742364</td>\n",
       "      <td>IN</td>\n",
       "    </tr>\n",
       "    <tr>\n",
       "      <th>1</th>\n",
       "      <td>+918320742364</td>\n",
       "      <td>IN</td>\n",
       "    </tr>\n",
       "    <tr>\n",
       "      <th>2</th>\n",
       "      <td>918320742364</td>\n",
       "      <td>Unknown</td>\n",
       "    </tr>\n",
       "    <tr>\n",
       "      <th>3</th>\n",
       "      <td>+8320742364</td>\n",
       "      <td>Unknown</td>\n",
       "    </tr>\n",
       "    <tr>\n",
       "      <th>4</th>\n",
       "      <td>+1 5714993119</td>\n",
       "      <td>US</td>\n",
       "    </tr>\n",
       "  </tbody>\n",
       "</table>\n",
       "</div>"
      ],
      "text/plain": [
       "           Mobile Country Code\n",
       "0  +91 8320742364           IN\n",
       "1   +918320742364           IN\n",
       "2    918320742364      Unknown\n",
       "3     +8320742364      Unknown\n",
       "4   +1 5714993119           US"
      ]
     },
     "execution_count": 330,
     "metadata": {},
     "output_type": "execute_result"
    }
   ],
   "source": [
    "sample_nums"
   ]
  },
  {
   "cell_type": "markdown",
   "metadata": {},
   "source": [
    "## ISSUES\n",
    "- handling missing country codes\n",
    "- handling incorrectly formatted country codes"
   ]
  },
  {
   "cell_type": "code",
   "execution_count": 331,
   "metadata": {},
   "outputs": [
    {
     "data": {
      "text/html": [
       "<div>\n",
       "<style scoped>\n",
       "    .dataframe tbody tr th:only-of-type {\n",
       "        vertical-align: middle;\n",
       "    }\n",
       "\n",
       "    .dataframe tbody tr th {\n",
       "        vertical-align: top;\n",
       "    }\n",
       "\n",
       "    .dataframe thead th {\n",
       "        text-align: right;\n",
       "    }\n",
       "</style>\n",
       "<table border=\"1\" class=\"dataframe\">\n",
       "  <thead>\n",
       "    <tr style=\"text-align: right;\">\n",
       "      <th></th>\n",
       "      <th>Mobile</th>\n",
       "      <th>Country Code</th>\n",
       "    </tr>\n",
       "  </thead>\n",
       "  <tbody>\n",
       "    <tr>\n",
       "      <th>2</th>\n",
       "      <td>918320742364</td>\n",
       "      <td>Unknown</td>\n",
       "    </tr>\n",
       "    <tr>\n",
       "      <th>3</th>\n",
       "      <td>+8320742364</td>\n",
       "      <td>Unknown</td>\n",
       "    </tr>\n",
       "  </tbody>\n",
       "</table>\n",
       "</div>"
      ],
      "text/plain": [
       "         Mobile Country Code\n",
       "2  918320742364      Unknown\n",
       "3   +8320742364      Unknown"
      ]
     },
     "execution_count": 331,
     "metadata": {},
     "output_type": "execute_result"
    }
   ],
   "source": [
    "unknowns = sample_nums[sample_nums['Country Code'] == 'Unknown']\n",
    "unknowns.head()"
   ]
  },
  {
   "cell_type": "code",
   "execution_count": 332,
   "metadata": {},
   "outputs": [
    {
     "name": "stderr",
     "output_type": "stream",
     "text": [
      "<ipython-input-332-600c42431a9f>:8: SettingWithCopyWarning: \n",
      "A value is trying to be set on a copy of a slice from a DataFrame.\n",
      "Try using .loc[row_indexer,col_indexer] = value instead\n",
      "\n",
      "See the caveats in the documentation: https://pandas.pydata.org/pandas-docs/stable/user_guide/indexing.html#returning-a-view-versus-a-copy\n",
      "  unknowns['digitsCount'] = l_\n"
     ]
    }
   ],
   "source": [
    "l_ = []\n",
    "for i, r in unknowns.iterrows():\n",
    "    num = r['Mobile']\n",
    "    length = str(len(num))\n",
    "    l_.append(length)\n",
    "l_\n",
    "\n",
    "unknowns['digitsCount'] = l_"
   ]
  },
  {
   "cell_type": "code",
   "execution_count": 333,
   "metadata": {},
   "outputs": [
    {
     "data": {
      "text/html": [
       "<div>\n",
       "<style scoped>\n",
       "    .dataframe tbody tr th:only-of-type {\n",
       "        vertical-align: middle;\n",
       "    }\n",
       "\n",
       "    .dataframe tbody tr th {\n",
       "        vertical-align: top;\n",
       "    }\n",
       "\n",
       "    .dataframe thead th {\n",
       "        text-align: right;\n",
       "    }\n",
       "</style>\n",
       "<table border=\"1\" class=\"dataframe\">\n",
       "  <thead>\n",
       "    <tr style=\"text-align: right;\">\n",
       "      <th></th>\n",
       "      <th>Mobile</th>\n",
       "      <th>Country Code</th>\n",
       "      <th>digitsCount</th>\n",
       "    </tr>\n",
       "  </thead>\n",
       "  <tbody>\n",
       "    <tr>\n",
       "      <th>2</th>\n",
       "      <td>918320742364</td>\n",
       "      <td>Unknown</td>\n",
       "      <td>12</td>\n",
       "    </tr>\n",
       "    <tr>\n",
       "      <th>3</th>\n",
       "      <td>+8320742364</td>\n",
       "      <td>Unknown</td>\n",
       "      <td>11</td>\n",
       "    </tr>\n",
       "  </tbody>\n",
       "</table>\n",
       "</div>"
      ],
      "text/plain": [
       "         Mobile Country Code digitsCount\n",
       "2  918320742364      Unknown          12\n",
       "3   +8320742364      Unknown          11"
      ]
     },
     "execution_count": 333,
     "metadata": {},
     "output_type": "execute_result"
    }
   ],
   "source": [
    "unknowns"
   ]
  },
  {
   "cell_type": "code",
   "execution_count": 336,
   "metadata": {},
   "outputs": [
    {
     "data": {
      "text/plain": [
       "15    Mobile phones use geographic area codes (two d...\n",
       "Name: Notes, dtype: object"
      ]
     },
     "execution_count": 336,
     "metadata": {},
     "output_type": "execute_result"
    }
   ],
   "source": [
    "(code_wh_phone_dict[code_wh_phone_dict['Size of NSN'] == '11'].Notes)"
   ]
  },
  {
   "cell_type": "code",
   "execution_count": null,
   "metadata": {},
   "outputs": [],
   "source": []
  },
  {
   "cell_type": "code",
   "execution_count": null,
   "metadata": {},
   "outputs": [],
   "source": []
  }
 ],
 "metadata": {
  "kernelspec": {
   "display_name": "Python 3",
   "language": "python",
   "name": "python3"
  },
  "language_info": {
   "codemirror_mode": {
    "name": "ipython",
    "version": 3
   },
   "file_extension": ".py",
   "mimetype": "text/x-python",
   "name": "python",
   "nbconvert_exporter": "python",
   "pygments_lexer": "ipython3",
   "version": "3.8.1"
  }
 },
 "nbformat": 4,
 "nbformat_minor": 1
}
